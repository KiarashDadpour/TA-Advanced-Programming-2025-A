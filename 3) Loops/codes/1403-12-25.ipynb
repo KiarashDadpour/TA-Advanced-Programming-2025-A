{
 "cells": [
  {
   "cell_type": "markdown",
   "id": "e2e13059",
   "metadata": {},
   "source": [
    "## If condition in python"
   ]
  },
  {
   "cell_type": "markdown",
   "id": "efb6f0c8",
   "metadata": {},
   "source": [
    "### Logical conditions in python\n",
    "<hr>\n",
    "Equals: a == b <br>\n",
    "Not Equals: a != b <br>\n",
    "Less than: a < b<br>\n",
    "Less than or equal to: a <= b<br>\n",
    "Greater than: a > b<br>\n",
    "Greater than or equal to: a >= b<br>\n",
    "\n",
    "<hr>\n",
    "<h3>if syntax </h3>\n",
    "<br>"
   ]
  },
  {
   "cell_type": "code",
   "execution_count": 9,
   "id": "f53c5d54",
   "metadata": {
    "collapsed": true
   },
   "outputs": [
    {
     "ename": "NameError",
     "evalue": "name 'condition' is not defined",
     "output_type": "error",
     "traceback": [
      "\u001b[1;31m---------------------------------------------------------------------------\u001b[0m",
      "\u001b[1;31mNameError\u001b[0m                                 Traceback (most recent call last)",
      "Cell \u001b[1;32mIn[9], line 1\u001b[0m\n\u001b[1;32m----> 1\u001b[0m \u001b[38;5;28;01mif\u001b[39;00m \u001b[43mcondition\u001b[49m:\n\u001b[0;32m      2\u001b[0m     \u001b[38;5;241m.\u001b[39m\u001b[38;5;241m.\u001b[39m\u001b[38;5;241m.\u001b[39m\n",
      "\u001b[1;31mNameError\u001b[0m: name 'condition' is not defined"
     ]
    }
   ],
   "source": [
    "if condition:\n",
    "    ...\n"
   ]
  },
  {
   "cell_type": "code",
   "execution_count": 3,
   "id": "d2332370",
   "metadata": {},
   "outputs": [
    {
     "name": "stdout",
     "output_type": "stream",
     "text": [
      "b is greater than a.\n"
     ]
    }
   ],
   "source": [
    "a = 10\n",
    "b = 20\n",
    "\n",
    "if a > b:\n",
    "    print(\"a is greater than b.\")\n",
    "if b > a:\n",
    "    print(\"b is greater than a.\")\n",
    "if a == b:\n",
    "    print(\"a and b are equal.\")"
   ]
  },
  {
   "cell_type": "code",
   "execution_count": 6,
   "id": "60c3478e",
   "metadata": {},
   "outputs": [
    {
     "name": "stdout",
     "output_type": "stream",
     "text": [
      "a and b are equal.\n"
     ]
    }
   ],
   "source": [
    "a = 30\n",
    "b = 30\n",
    "\n",
    "if a > b:\n",
    "    print(\"a is greater than b.\")\n",
    "elif a < b:\n",
    "    print(\"b is greater than a.\")\n",
    "elif a == b:\n",
    "    print(\"a and b are equal.\")"
   ]
  },
  {
   "cell_type": "code",
   "execution_count": 7,
   "id": "0356f8d0",
   "metadata": {},
   "outputs": [
    {
     "name": "stdout",
     "output_type": "stream",
     "text": [
      "b is greater than a.\n"
     ]
    }
   ],
   "source": [
    "a = 10\n",
    "b = 20\n",
    "\n",
    "if a > b:\n",
    "    print(\"a is greater than b.\")\n",
    "elif a == b:\n",
    "    print(\"a and b are equal.\")\n",
    "else:\n",
    "    print(\"b is greater than a.\")"
   ]
  },
  {
   "cell_type": "code",
   "execution_count": 13,
   "id": "433d1006",
   "metadata": {},
   "outputs": [
    {
     "name": "stdout",
     "output_type": "stream",
     "text": [
      "Please enter an integer: 10\n",
      "More than one\n"
     ]
    }
   ],
   "source": [
    "x = int(input(\"Please enter an integer: \"))\n",
    "\n",
    "if x < 0:\n",
    "    x = 0\n",
    "    print('Negative changed to zero')\n",
    "elif x == 0:\n",
    "    print('Zero')\n",
    "elif x == 1:\n",
    "    print('One')\n",
    "else:\n",
    "    print('More than one')"
   ]
  },
  {
   "cell_type": "code",
   "execution_count": 18,
   "id": "3eb48ea8",
   "metadata": {},
   "outputs": [
    {
     "name": "stdout",
     "output_type": "stream",
     "text": [
      "10\n",
      "False\n",
      "True\n",
      "False\n",
      "False\n"
     ]
    }
   ],
   "source": [
    "a = 10\n",
    "print(a)\n",
    "print(a == 20)\n",
    "print(a != 20)\n",
    "print(20 == 10)\n",
    "print('salam' == 'hi')"
   ]
  },
  {
   "cell_type": "code",
   "execution_count": 21,
   "id": "3c96a232",
   "metadata": {},
   "outputs": [
    {
     "name": "stdout",
     "output_type": "stream",
     "text": [
      "a is greater than b\n"
     ]
    }
   ],
   "source": [
    "a, b = 20, 10\n",
    "if a > b: print(\"a is greater than b\")"
   ]
  },
  {
   "cell_type": "code",
   "execution_count": 24,
   "id": "bf2bc4ae",
   "metadata": {},
   "outputs": [
    {
     "name": "stdout",
     "output_type": "stream",
     "text": [
      "A\n"
     ]
    }
   ],
   "source": [
    "a, b = 330, 2\n",
    "print(\"A\") if a > b else print(\"B\")"
   ]
  },
  {
   "cell_type": "code",
   "execution_count": 26,
   "id": "3a84dccf",
   "metadata": {},
   "outputs": [
    {
     "name": "stdout",
     "output_type": "stream",
     "text": [
      "Both conditions are True\n"
     ]
    }
   ],
   "source": [
    "a = 200\n",
    "b = 33\n",
    "c = 500\n",
    "if a > b and c > a:\n",
    "  print(\"Both conditions are True\")"
   ]
  },
  {
   "cell_type": "code",
   "execution_count": 27,
   "id": "5616f5d9",
   "metadata": {},
   "outputs": [
    {
     "name": "stdout",
     "output_type": "stream",
     "text": [
      "At least one of the conditions is True\n"
     ]
    }
   ],
   "source": [
    "a = 200\n",
    "b = 33\n",
    "c = 500\n",
    "if a > b or a > c:\n",
    "  print(\"At least one of the conditions is True\")"
   ]
  },
  {
   "cell_type": "code",
   "execution_count": 29,
   "id": "94281ddd",
   "metadata": {},
   "outputs": [
    {
     "name": "stdout",
     "output_type": "stream",
     "text": [
      "a is NOT greater than b\n",
      "a is NOT greater than b\n"
     ]
    }
   ],
   "source": [
    "a = 33\n",
    "b = 200\n",
    "if not a > b:\n",
    "  print(\"a is NOT greater than b\")\n",
    "if a <= b:\n",
    "  print(\"a is NOT greater than b\")"
   ]
  },
  {
   "cell_type": "code",
   "execution_count": 32,
   "id": "34bb3b79",
   "metadata": {},
   "outputs": [
    {
     "name": "stdout",
     "output_type": "stream",
     "text": [
      "Above ten,\n",
      "and also above 20!\n"
     ]
    }
   ],
   "source": [
    "x = 22\n",
    "\n",
    "if x > 10:\n",
    "  print(\"Above ten,\")\n",
    "  if x > 20:\n",
    "    print(\"and also above 20!\")\n",
    "  else:\n",
    "    print(\"but not above 20.\")\n",
    "else:\n",
    "    print(\"Under ten\")"
   ]
  },
  {
   "cell_type": "code",
   "execution_count": 34,
   "id": "7968932a",
   "metadata": {},
   "outputs": [],
   "source": [
    "a = 33\n",
    "b = 200\n",
    "\n",
    "if b > a:\n",
    "  pass"
   ]
  },
  {
   "cell_type": "code",
   "execution_count": 37,
   "id": "8e0f6620",
   "metadata": {},
   "outputs": [
    {
     "name": "stdout",
     "output_type": "stream",
     "text": [
      "A\n"
     ]
    }
   ],
   "source": [
    "a = 333\n",
    "b = 332\n",
    "print(\"A\") if a > b else (print(\"=\") if a == b else print(\"B\"))"
   ]
  },
  {
   "cell_type": "markdown",
   "id": "d15df96a",
   "metadata": {},
   "source": [
    "### While loop in python\n",
    "<hr>"
   ]
  },
  {
   "cell_type": "code",
   "execution_count": 41,
   "id": "6d6a3174",
   "metadata": {},
   "outputs": [
    {
     "name": "stdout",
     "output_type": "stream",
     "text": [
      "1\n",
      "2\n",
      "3\n",
      "4\n",
      "5\n"
     ]
    }
   ],
   "source": [
    "i = 1\n",
    "while i < 6:\n",
    "    print(i)\n",
    "    i += 1"
   ]
  },
  {
   "cell_type": "code",
   "execution_count": 42,
   "id": "a2d316a2",
   "metadata": {},
   "outputs": [
    {
     "name": "stdout",
     "output_type": "stream",
     "text": [
      "1\n",
      "2\n",
      "3\n",
      "Hi\n"
     ]
    }
   ],
   "source": [
    "i = 1\n",
    "while i < 6:\n",
    "  print(i)\n",
    "  if i == 3:\n",
    "    break\n",
    "  i += 1\n",
    "print('Hi')"
   ]
  },
  {
   "cell_type": "code",
   "execution_count": 47,
   "id": "56a8e403",
   "metadata": {},
   "outputs": [
    {
     "name": "stdout",
     "output_type": "stream",
     "text": [
      "1\n",
      "2\n",
      "3\n",
      "4\n",
      "5\n",
      "Hi\n"
     ]
    }
   ],
   "source": [
    "i = 1\n",
    "while i < 6:\n",
    "    print(i)\n",
    "    i += 1\n",
    "    if i == 3:\n",
    "        continue\n",
    "print('Hi')"
   ]
  },
  {
   "cell_type": "code",
   "execution_count": 46,
   "id": "a3210c24",
   "metadata": {},
   "outputs": [
    {
     "name": "stdout",
     "output_type": "stream",
     "text": [
      "1\n",
      "2\n",
      "3\n",
      "4\n",
      "5\n",
      "i is no longer less than 6\n"
     ]
    }
   ],
   "source": [
    "i = 1\n",
    "while i < 6:\n",
    "  print(i)\n",
    "  i += 1\n",
    "else:\n",
    "  print(\"i is no longer less than 6\")"
   ]
  },
  {
   "cell_type": "markdown",
   "id": "0440b889",
   "metadata": {},
   "source": [
    "### For loop in python\n",
    "<hr>"
   ]
  },
  {
   "cell_type": "code",
   "execution_count": 50,
   "id": "d2b115f3",
   "metadata": {},
   "outputs": [
    {
     "name": "stdout",
     "output_type": "stream",
     "text": [
      "0 1 2 3 4 5 6 7 8 9 "
     ]
    }
   ],
   "source": [
    "for counter in range(10):\n",
    "    print(counter, end=' ')"
   ]
  },
  {
   "cell_type": "code",
   "execution_count": 52,
   "id": "48004918",
   "metadata": {},
   "outputs": [
    {
     "name": "stdout",
     "output_type": "stream",
     "text": [
      "1 2 3 4 5 6 7 8 9 "
     ]
    }
   ],
   "source": [
    "for counter in range(1,10):\n",
    "    print(counter, end = ' ')"
   ]
  },
  {
   "cell_type": "code",
   "execution_count": 53,
   "id": "d2e4ad9d",
   "metadata": {},
   "outputs": [
    {
     "name": "stdout",
     "output_type": "stream",
     "text": [
      "0 2 4 6 8 "
     ]
    }
   ],
   "source": [
    "for counter in range(0,10,2):\n",
    "    print(counter, end= ' ')"
   ]
  },
  {
   "cell_type": "code",
   "execution_count": 56,
   "id": "9ac8ef56",
   "metadata": {},
   "outputs": [
    {
     "name": "stdout",
     "output_type": "stream",
     "text": [
      "10\n",
      "8\n",
      "6\n",
      "4\n",
      "2\n"
     ]
    }
   ],
   "source": [
    "for counter in range(10,1,-2):\n",
    "    print(counter)"
   ]
  },
  {
   "cell_type": "code",
   "execution_count": 58,
   "id": "72673fe3",
   "metadata": {},
   "outputs": [
    {
     "name": "stdout",
     "output_type": "stream",
     "text": [
      "1 1\n",
      "1 2\n",
      "1 3\n",
      "2 1\n",
      "2 2\n",
      "2 3\n",
      "3 1\n",
      "3 2\n",
      "3 3\n"
     ]
    }
   ],
   "source": [
    "for i in range(1,4):\n",
    "    for j in range(1,4):\n",
    "        print(i,j)"
   ]
  },
  {
   "cell_type": "markdown",
   "id": "dc2cf528",
   "metadata": {},
   "source": [
    "### Lists in python\n",
    "<hr>"
   ]
  },
  {
   "cell_type": "code",
   "execution_count": 60,
   "id": "6ab07065",
   "metadata": {},
   "outputs": [
    {
     "data": {
      "text/plain": [
       "[]"
      ]
     },
     "execution_count": 60,
     "metadata": {},
     "output_type": "execute_result"
    }
   ],
   "source": [
    "List = [1,2.3,3, 'salam', None, True, [1,2]]\n",
    "List2 = list()\n",
    "List2"
   ]
  },
  {
   "cell_type": "code",
   "execution_count": 61,
   "id": "85570978",
   "metadata": {},
   "outputs": [
    {
     "name": "stdout",
     "output_type": "stream",
     "text": [
      "[1]\n",
      "[1, 2]\n"
     ]
    }
   ],
   "source": [
    "List2.append(1)\n",
    "print(List2)\n",
    "List2.append(2)\n",
    "print(List2)"
   ]
  },
  {
   "cell_type": "code",
   "execution_count": 62,
   "id": "2a104d54",
   "metadata": {},
   "outputs": [
    {
     "name": "stdout",
     "output_type": "stream",
     "text": [
      "2\n"
     ]
    },
    {
     "data": {
      "text/plain": [
       "[1]"
      ]
     },
     "execution_count": 62,
     "metadata": {},
     "output_type": "execute_result"
    }
   ],
   "source": [
    "print(List2.pop())\n",
    "List2"
   ]
  },
  {
   "cell_type": "code",
   "execution_count": 63,
   "id": "25eabc38",
   "metadata": {},
   "outputs": [
    {
     "data": {
      "text/plain": [
       "[2, 1]"
      ]
     },
     "execution_count": 63,
     "metadata": {},
     "output_type": "execute_result"
    }
   ],
   "source": [
    "List2.insert(0,2)\n",
    "List2"
   ]
  },
  {
   "cell_type": "code",
   "execution_count": 66,
   "id": "e50c6921",
   "metadata": {},
   "outputs": [
    {
     "data": {
      "text/plain": [
       "1"
      ]
     },
     "execution_count": 66,
     "metadata": {},
     "output_type": "execute_result"
    }
   ],
   "source": [
    "List2.count(1)"
   ]
  },
  {
   "cell_type": "code",
   "execution_count": 67,
   "id": "7576e04d",
   "metadata": {},
   "outputs": [
    {
     "data": {
      "text/plain": [
       "0"
      ]
     },
     "execution_count": 67,
     "metadata": {},
     "output_type": "execute_result"
    }
   ],
   "source": [
    "List2.index(2)"
   ]
  },
  {
   "cell_type": "code",
   "execution_count": 68,
   "id": "cffd7cca",
   "metadata": {},
   "outputs": [
    {
     "data": {
      "text/plain": [
       "[2, 1, 3]"
      ]
     },
     "execution_count": 68,
     "metadata": {},
     "output_type": "execute_result"
    }
   ],
   "source": [
    "List2.append(3)\n",
    "List2"
   ]
  },
  {
   "cell_type": "code",
   "execution_count": 69,
   "id": "a7fb98f7",
   "metadata": {},
   "outputs": [
    {
     "data": {
      "text/plain": [
       "[2, 3]"
      ]
     },
     "execution_count": 69,
     "metadata": {},
     "output_type": "execute_result"
    }
   ],
   "source": [
    "List2.remove(1)\n",
    "List2"
   ]
  },
  {
   "cell_type": "code",
   "execution_count": 70,
   "id": "cc7bcef3",
   "metadata": {},
   "outputs": [
    {
     "data": {
      "text/plain": [
       "2"
      ]
     },
     "execution_count": 70,
     "metadata": {},
     "output_type": "execute_result"
    }
   ],
   "source": [
    "List2.pop(0)"
   ]
  },
  {
   "cell_type": "code",
   "execution_count": 71,
   "id": "89955ea4",
   "metadata": {},
   "outputs": [
    {
     "data": {
      "text/plain": [
       "[3]"
      ]
     },
     "execution_count": 71,
     "metadata": {},
     "output_type": "execute_result"
    }
   ],
   "source": [
    "List2"
   ]
  },
  {
   "cell_type": "code",
   "execution_count": 72,
   "id": "e501322b",
   "metadata": {},
   "outputs": [],
   "source": [
    "List2.append(1)"
   ]
  },
  {
   "cell_type": "code",
   "execution_count": 73,
   "id": "e93bb747",
   "metadata": {},
   "outputs": [
    {
     "data": {
      "text/plain": [
       "[3, 1]"
      ]
     },
     "execution_count": 73,
     "metadata": {},
     "output_type": "execute_result"
    }
   ],
   "source": [
    "List2"
   ]
  },
  {
   "cell_type": "code",
   "execution_count": 76,
   "id": "6a3a2455",
   "metadata": {},
   "outputs": [],
   "source": [
    "List2.sort(reverse=True)"
   ]
  },
  {
   "cell_type": "code",
   "execution_count": 77,
   "id": "eea09d6e",
   "metadata": {},
   "outputs": [
    {
     "data": {
      "text/plain": [
       "[3, 1]"
      ]
     },
     "execution_count": 77,
     "metadata": {},
     "output_type": "execute_result"
    }
   ],
   "source": [
    "List2"
   ]
  },
  {
   "cell_type": "code",
   "execution_count": 78,
   "id": "2e25dc1c",
   "metadata": {},
   "outputs": [],
   "source": [
    "    List = ['hi','bye','Add']\n",
    "    List.sort()"
   ]
  },
  {
   "cell_type": "code",
   "execution_count": 79,
   "id": "d1b45c3e",
   "metadata": {},
   "outputs": [
    {
     "data": {
      "text/plain": [
       "['Add', 'bye', 'hi']"
      ]
     },
     "execution_count": 79,
     "metadata": {},
     "output_type": "execute_result"
    }
   ],
   "source": [
    "List"
   ]
  },
  {
   "cell_type": "code",
   "execution_count": 80,
   "id": "12a64efa",
   "metadata": {},
   "outputs": [
    {
     "data": {
      "text/plain": [
       "[0, 1, 2]"
      ]
     },
     "execution_count": 80,
     "metadata": {},
     "output_type": "execute_result"
    }
   ],
   "source": [
    "List = [i for i in range(3)]\n",
    "List"
   ]
  },
  {
   "cell_type": "code",
   "execution_count": 81,
   "id": "0b130ecd",
   "metadata": {},
   "outputs": [
    {
     "data": {
      "text/plain": [
       "[1, 2, 3]"
      ]
     },
     "execution_count": 81,
     "metadata": {},
     "output_type": "execute_result"
    }
   ],
   "source": [
    "List = [i+1 for i in range(3)]\n",
    "List"
   ]
  },
  {
   "cell_type": "code",
   "execution_count": 82,
   "id": "52bae8a6",
   "metadata": {},
   "outputs": [
    {
     "data": {
      "text/plain": [
       "[10, 11, 2]"
      ]
     },
     "execution_count": 82,
     "metadata": {},
     "output_type": "execute_result"
    }
   ],
   "source": [
    "List = [i if i == 2 else i+10 for i in range(3)]\n",
    "List"
   ]
  },
  {
   "cell_type": "markdown",
   "id": "907e0dd9",
   "metadata": {},
   "source": [
    "### Exercises\n",
    "<hr>"
   ]
  },
  {
   "cell_type": "code",
   "execution_count": null,
   "id": "7b881bce",
   "metadata": {},
   "outputs": [],
   "source": [
    "# Write a program that counts the vowels in a inputed string (a,i,u,o,e)"
   ]
  },
  {
   "cell_type": "code",
   "execution_count": 83,
   "id": "60754b03",
   "metadata": {},
   "outputs": [
    {
     "name": "stdout",
     "output_type": "stream",
     "text": [
      "Please input a text:Hello world!\n",
      "3\n"
     ]
    }
   ],
   "source": [
    "# Write a program that counts the vowels in a inputed string (a,i,u,o,e)\n",
    "List = ['a','i','u','o','e']\n",
    "text = input('Please input a text:')\n",
    "# input -> Hello world!\n",
    "counter = 0\n",
    "for i in text.lower():\n",
    "    if i in List:\n",
    "        counter += 1\n",
    "print(counter)"
   ]
  },
  {
   "cell_type": "code",
   "execution_count": null,
   "id": "34cbe4dd",
   "metadata": {},
   "outputs": [],
   "source": [
    "# Write a program that counts each of the vowels in a inputed string (a,i,u,o,e) "
   ]
  },
  {
   "cell_type": "code",
   "execution_count": 85,
   "id": "d929e1e2",
   "metadata": {},
   "outputs": [
    {
     "name": "stdout",
     "output_type": "stream",
     "text": [
      "Please input a text:Hello world!\n",
      "a 0\n",
      "i 0\n",
      "u 0\n",
      "o 2\n",
      "e 1\n"
     ]
    }
   ],
   "source": [
    "# Write a program that counts each of the vowels in a inputed string (a,i,u,o,e) \n",
    "List = ['a','i','u','o','e']\n",
    "text = input('Please input a text:')\n",
    "text = text.lower()\n",
    "# input -> Hello world!\n",
    "for i in List:\n",
    "    print(f'{i}',text.count(i))"
   ]
  },
  {
   "cell_type": "code",
   "execution_count": null,
   "id": "0ac23e1d",
   "metadata": {},
   "outputs": [],
   "source": [
    "# Convert celsius to farenhait and reverse\n",
    "# F = (C * (9/5)) + 32\n",
    "# C = (F - 32)* (5/9)\n",
    "# example -> 0 C = 32 F"
   ]
  },
  {
   "cell_type": "code",
   "execution_count": 89,
   "id": "a230025d",
   "metadata": {},
   "outputs": [
    {
     "name": "stdout",
     "output_type": "stream",
     "text": [
      "Please input the value of the temprature: 32\n",
      "Please input the unit: (C,F)k\n",
      "Invalid unit\n"
     ]
    }
   ],
   "source": [
    "# Convert celsius to farenhait and reverse\n",
    "# F = (C * (9/5)) + 32\n",
    "# C = (F - 32)* (5/9)\n",
    "# example -> 0 C = 32 F\n",
    "temp = float(input('Please input the value of the temprature: '))\n",
    "unit = input('Please input the unit: (C,F)')\n",
    "\n",
    "Flag = True\n",
    "if unit.lower() == 'c':\n",
    "    final = (temp * (9/5)) + 32\n",
    "elif unit.lower() == 'f':\n",
    "    final = (temp - 32)* (5/9)\n",
    "else:\n",
    "    print('Invalid unit')\n",
    "    Flag = False\n",
    "\n",
    "if Flag:\n",
    "    print(round(final,2))"
   ]
  },
  {
   "cell_type": "code",
   "execution_count": 2,
   "id": "e1a8ed51",
   "metadata": {},
   "outputs": [],
   "source": [
    "# Convert celsius to farenhait and reverse\n",
    "# F = (C * (9/5)) + 32\n",
    "# C = (F - 32)* (5/9)\n",
    "# example -> 0 C = 32 F\n",
    "# input in one line"
   ]
  },
  {
   "cell_type": "code",
   "execution_count": 91,
   "id": "3a65b183",
   "metadata": {},
   "outputs": [
    {
     "name": "stdout",
     "output_type": "stream",
     "text": [
      "Please input the value of the temprature and then the unit with a space between: (32 F) 15 c\n",
      "59.0\n"
     ]
    }
   ],
   "source": [
    "# Convert celsius to farenhait and reverse\n",
    "# F = (C * (9/5)) + 32\n",
    "# C = (F - 32)* (5/9)\n",
    "# example -> 0 C = 32 F\n",
    "\n",
    "temp, unit = (input('Please input the value of the temprature and then the unit with a space between: (32 F) ')).split(' ')\n",
    "temp = float(temp)\n",
    "\n",
    "Flag = True\n",
    "if unit.lower() == 'c':\n",
    "    final = (temp * (9/5)) + 32\n",
    "elif unit.lower() == 'f':\n",
    "    final = (temp - 32)* (5/9)\n",
    "else:\n",
    "    print('Invalid unit')\n",
    "    Flag = False\n",
    "    \n",
    "if Flag:\n",
    "    print(round(final,2))"
   ]
  },
  {
   "cell_type": "code",
   "execution_count": 1,
   "id": "675dc611",
   "metadata": {},
   "outputs": [],
   "source": [
    "# Check if the inputted password is strong\n",
    "# length >= 8\n",
    "# contains [a-z]\n",
    "# contains [A-Z]\n",
    "# contains [0-9]\n",
    "# contains a special charachter (!,@,#)"
   ]
  },
  {
   "cell_type": "code",
   "execution_count": 95,
   "id": "be4bb1e3",
   "metadata": {},
   "outputs": [
    {
     "name": "stdout",
     "output_type": "stream",
     "text": [
      "Please input your password: 12345678aA@\n",
      "Strong password\n"
     ]
    }
   ],
   "source": [
    "# Check if the inputted password is strong\n",
    "# length >= 8\n",
    "# contains [a-z]\n",
    "# contains [A-Z]\n",
    "# contains [0-9]\n",
    "# contains a special charachter (!,@,#)\n",
    "password = input(\"Please input your password: \")\n",
    "\n",
    "has_lower = False\n",
    "has_upper = False\n",
    "has_digit = False\n",
    "has_special = False\n",
    "\n",
    "for char in password:\n",
    "    if char.islower():\n",
    "        has_lower = True\n",
    "    elif char.isupper():\n",
    "        has_upper = True\n",
    "    elif char.isdigit():\n",
    "        has_digit = True\n",
    "    elif char in \"!@#\":\n",
    "        has_special = True\n",
    "\n",
    "if has_lower and has_upper and has_digit and has_special and len(password)>=8:\n",
    "    print(\"Strong password\")\n",
    "else:\n",
    "    print(\"Please change your password\")\n"
   ]
  },
  {
   "cell_type": "code",
   "execution_count": null,
   "id": "0d3944dd",
   "metadata": {},
   "outputs": [],
   "source": []
  }
 ],
 "metadata": {
  "kernelspec": {
   "display_name": "Python 3 (ipykernel)",
   "language": "python",
   "name": "python3"
  },
  "language_info": {
   "codemirror_mode": {
    "name": "ipython",
    "version": 3
   },
   "file_extension": ".py",
   "mimetype": "text/x-python",
   "name": "python",
   "nbconvert_exporter": "python",
   "pygments_lexer": "ipython3",
   "version": "3.9.12"
  }
 },
 "nbformat": 4,
 "nbformat_minor": 5
}
